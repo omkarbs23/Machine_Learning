{
 "cells": [
  {
   "cell_type": "markdown",
   "id": "2bd2b6de",
   "metadata": {},
   "source": [
    "# Importing Libraries"
   ]
  },
  {
   "cell_type": "code",
   "execution_count": 56,
   "id": "abe02e75",
   "metadata": {},
   "outputs": [],
   "source": [
    "import pandas as pd\n",
    "import numpy as  np\n",
    "import matplotlib.pyplot as plt\n",
    "import seaborn as sns\n",
    "\n",
    "\n",
    "from sklearn.preprocessing import OrdinalEncoder\n",
    "OE = OrdinalEncoder()\n",
    "\n",
    "from sklearn.model_selection import train_test_split\n",
    "from sklearn.metrics import classification_report,accuracy_score,f1_score,recall_score,precision_score\n",
    "\n",
    "from sklearn.linear_model import LogisticRegression\n",
    "from sklearn.svm import SVC\n",
    "from sklearn.neighbors import KNeighborsClassifier\n",
    "from sklearn.tree import DecisionTreeClassifier\n",
    "from sklearn.ensemble import RandomForestClassifier\n",
    "from sklearn.svm import SVC\n",
    "\n",
    "\n",
    "import warnings\n",
    "warnings.filterwarnings(\"ignore\")"
   ]
  },
  {
   "cell_type": "markdown",
   "id": "c0bcb800",
   "metadata": {},
   "source": [
    "# Reading Data"
   ]
  },
  {
   "cell_type": "code",
   "execution_count": 2,
   "id": "cbf79dec",
   "metadata": {},
   "outputs": [
    {
     "data": {
      "text/html": [
       "<div>\n",
       "<style scoped>\n",
       "    .dataframe tbody tr th:only-of-type {\n",
       "        vertical-align: middle;\n",
       "    }\n",
       "\n",
       "    .dataframe tbody tr th {\n",
       "        vertical-align: top;\n",
       "    }\n",
       "\n",
       "    .dataframe thead th {\n",
       "        text-align: right;\n",
       "    }\n",
       "</style>\n",
       "<table border=\"1\" class=\"dataframe\">\n",
       "  <thead>\n",
       "    <tr style=\"text-align: right;\">\n",
       "      <th></th>\n",
       "      <th>CustomerID</th>\n",
       "      <th>Name</th>\n",
       "      <th>Age</th>\n",
       "      <th>Gender</th>\n",
       "      <th>Location</th>\n",
       "      <th>Subscription_Length_Months</th>\n",
       "      <th>Monthly_Bill</th>\n",
       "      <th>Total_Usage_GB</th>\n",
       "      <th>Churn</th>\n",
       "    </tr>\n",
       "  </thead>\n",
       "  <tbody>\n",
       "    <tr>\n",
       "      <th>0</th>\n",
       "      <td>1</td>\n",
       "      <td>Customer_1</td>\n",
       "      <td>63</td>\n",
       "      <td>Male</td>\n",
       "      <td>Los Angeles</td>\n",
       "      <td>17</td>\n",
       "      <td>73.36</td>\n",
       "      <td>236</td>\n",
       "      <td>0</td>\n",
       "    </tr>\n",
       "    <tr>\n",
       "      <th>1</th>\n",
       "      <td>2</td>\n",
       "      <td>Customer_2</td>\n",
       "      <td>62</td>\n",
       "      <td>Female</td>\n",
       "      <td>New York</td>\n",
       "      <td>1</td>\n",
       "      <td>48.76</td>\n",
       "      <td>172</td>\n",
       "      <td>0</td>\n",
       "    </tr>\n",
       "    <tr>\n",
       "      <th>2</th>\n",
       "      <td>3</td>\n",
       "      <td>Customer_3</td>\n",
       "      <td>24</td>\n",
       "      <td>Female</td>\n",
       "      <td>Los Angeles</td>\n",
       "      <td>5</td>\n",
       "      <td>85.47</td>\n",
       "      <td>460</td>\n",
       "      <td>0</td>\n",
       "    </tr>\n",
       "    <tr>\n",
       "      <th>3</th>\n",
       "      <td>4</td>\n",
       "      <td>Customer_4</td>\n",
       "      <td>36</td>\n",
       "      <td>Female</td>\n",
       "      <td>Miami</td>\n",
       "      <td>3</td>\n",
       "      <td>97.94</td>\n",
       "      <td>297</td>\n",
       "      <td>1</td>\n",
       "    </tr>\n",
       "    <tr>\n",
       "      <th>4</th>\n",
       "      <td>5</td>\n",
       "      <td>Customer_5</td>\n",
       "      <td>46</td>\n",
       "      <td>Female</td>\n",
       "      <td>Miami</td>\n",
       "      <td>19</td>\n",
       "      <td>58.14</td>\n",
       "      <td>266</td>\n",
       "      <td>0</td>\n",
       "    </tr>\n",
       "  </tbody>\n",
       "</table>\n",
       "</div>"
      ],
      "text/plain": [
       "   CustomerID        Name  Age  Gender     Location   \n",
       "0           1  Customer_1   63    Male  Los Angeles  \\\n",
       "1           2  Customer_2   62  Female     New York   \n",
       "2           3  Customer_3   24  Female  Los Angeles   \n",
       "3           4  Customer_4   36  Female        Miami   \n",
       "4           5  Customer_5   46  Female        Miami   \n",
       "\n",
       "   Subscription_Length_Months  Monthly_Bill  Total_Usage_GB  Churn  \n",
       "0                          17         73.36             236      0  \n",
       "1                           1         48.76             172      0  \n",
       "2                           5         85.47             460      0  \n",
       "3                           3         97.94             297      1  \n",
       "4                          19         58.14             266      0  "
      ]
     },
     "execution_count": 2,
     "metadata": {},
     "output_type": "execute_result"
    }
   ],
   "source": [
    "df = pd.read_excel(\"customer_churn_large_dataset.xlsx\")\n",
    "df.head()"
   ]
  },
  {
   "cell_type": "code",
   "execution_count": 3,
   "id": "fee754c7",
   "metadata": {},
   "outputs": [
    {
     "name": "stdout",
     "output_type": "stream",
     "text": [
      "<class 'pandas.core.frame.DataFrame'>\n",
      "RangeIndex: 100000 entries, 0 to 99999\n",
      "Data columns (total 9 columns):\n",
      " #   Column                      Non-Null Count   Dtype  \n",
      "---  ------                      --------------   -----  \n",
      " 0   CustomerID                  100000 non-null  int64  \n",
      " 1   Name                        100000 non-null  object \n",
      " 2   Age                         100000 non-null  int64  \n",
      " 3   Gender                      100000 non-null  object \n",
      " 4   Location                    100000 non-null  object \n",
      " 5   Subscription_Length_Months  100000 non-null  int64  \n",
      " 6   Monthly_Bill                100000 non-null  float64\n",
      " 7   Total_Usage_GB              100000 non-null  int64  \n",
      " 8   Churn                       100000 non-null  int64  \n",
      "dtypes: float64(1), int64(5), object(3)\n",
      "memory usage: 6.9+ MB\n"
     ]
    }
   ],
   "source": [
    "df.info()"
   ]
  },
  {
   "cell_type": "markdown",
   "id": "9f2547cb",
   "metadata": {},
   "source": [
    "# Data Encoding"
   ]
  },
  {
   "cell_type": "code",
   "execution_count": 4,
   "id": "1155bca6",
   "metadata": {},
   "outputs": [
    {
     "data": {
      "text/html": [
       "<div>\n",
       "<style scoped>\n",
       "    .dataframe tbody tr th:only-of-type {\n",
       "        vertical-align: middle;\n",
       "    }\n",
       "\n",
       "    .dataframe tbody tr th {\n",
       "        vertical-align: top;\n",
       "    }\n",
       "\n",
       "    .dataframe thead th {\n",
       "        text-align: right;\n",
       "    }\n",
       "</style>\n",
       "<table border=\"1\" class=\"dataframe\">\n",
       "  <thead>\n",
       "    <tr style=\"text-align: right;\">\n",
       "      <th></th>\n",
       "      <th>CustomerID</th>\n",
       "      <th>Name</th>\n",
       "      <th>Age</th>\n",
       "      <th>Gender</th>\n",
       "      <th>Location</th>\n",
       "      <th>Subscription_Length_Months</th>\n",
       "      <th>Monthly_Bill</th>\n",
       "      <th>Total_Usage_GB</th>\n",
       "      <th>Churn</th>\n",
       "    </tr>\n",
       "  </thead>\n",
       "  <tbody>\n",
       "    <tr>\n",
       "      <th>60106</th>\n",
       "      <td>60107</td>\n",
       "      <td>Customer_60107</td>\n",
       "      <td>45</td>\n",
       "      <td>1</td>\n",
       "      <td>Los Angeles</td>\n",
       "      <td>14</td>\n",
       "      <td>69.50</td>\n",
       "      <td>145</td>\n",
       "      <td>0</td>\n",
       "    </tr>\n",
       "    <tr>\n",
       "      <th>59599</th>\n",
       "      <td>59600</td>\n",
       "      <td>Customer_59600</td>\n",
       "      <td>59</td>\n",
       "      <td>1</td>\n",
       "      <td>Chicago</td>\n",
       "      <td>1</td>\n",
       "      <td>83.80</td>\n",
       "      <td>455</td>\n",
       "      <td>1</td>\n",
       "    </tr>\n",
       "    <tr>\n",
       "      <th>4277</th>\n",
       "      <td>4278</td>\n",
       "      <td>Customer_4278</td>\n",
       "      <td>24</td>\n",
       "      <td>0</td>\n",
       "      <td>New York</td>\n",
       "      <td>12</td>\n",
       "      <td>43.36</td>\n",
       "      <td>499</td>\n",
       "      <td>0</td>\n",
       "    </tr>\n",
       "    <tr>\n",
       "      <th>3811</th>\n",
       "      <td>3812</td>\n",
       "      <td>Customer_3812</td>\n",
       "      <td>30</td>\n",
       "      <td>0</td>\n",
       "      <td>New York</td>\n",
       "      <td>21</td>\n",
       "      <td>54.65</td>\n",
       "      <td>294</td>\n",
       "      <td>1</td>\n",
       "    </tr>\n",
       "    <tr>\n",
       "      <th>28655</th>\n",
       "      <td>28656</td>\n",
       "      <td>Customer_28656</td>\n",
       "      <td>41</td>\n",
       "      <td>1</td>\n",
       "      <td>Los Angeles</td>\n",
       "      <td>5</td>\n",
       "      <td>84.61</td>\n",
       "      <td>404</td>\n",
       "      <td>0</td>\n",
       "    </tr>\n",
       "  </tbody>\n",
       "</table>\n",
       "</div>"
      ],
      "text/plain": [
       "       CustomerID            Name  Age  Gender     Location   \n",
       "60106       60107  Customer_60107   45       1  Los Angeles  \\\n",
       "59599       59600  Customer_59600   59       1      Chicago   \n",
       "4277         4278   Customer_4278   24       0     New York   \n",
       "3811         3812   Customer_3812   30       0     New York   \n",
       "28655       28656  Customer_28656   41       1  Los Angeles   \n",
       "\n",
       "       Subscription_Length_Months  Monthly_Bill  Total_Usage_GB  Churn  \n",
       "60106                          14         69.50             145      0  \n",
       "59599                           1         83.80             455      1  \n",
       "4277                           12         43.36             499      0  \n",
       "3811                           21         54.65             294      1  \n",
       "28655                           5         84.61             404      0  "
      ]
     },
     "execution_count": 4,
     "metadata": {},
     "output_type": "execute_result"
    }
   ],
   "source": [
    "# Ecoded 0 for Femal and 1 for Male\n",
    "df[\"Gender\"] = df[\"Gender\"].apply(lambda x: 0 if x == \"Female\" else 1)\n",
    "df.sample(5)"
   ]
  },
  {
   "cell_type": "code",
   "execution_count": 5,
   "id": "8b2cb87c",
   "metadata": {},
   "outputs": [
    {
     "data": {
      "text/plain": [
       "[array(['Chicago', 'Houston', 'Los Angeles', 'Miami', 'New York'],\n",
       "       dtype=object)]"
      ]
     },
     "execution_count": 5,
     "metadata": {},
     "output_type": "execute_result"
    }
   ],
   "source": [
    "# Encoding categorial variable ie.location \n",
    "df[\"Location\"] = OE.fit_transform(df[[\"Location\"]])\n",
    "Loc = OE.categories_\n",
    "Loc"
   ]
  },
  {
   "cell_type": "code",
   "execution_count": 6,
   "id": "984bd004",
   "metadata": {},
   "outputs": [
    {
     "data": {
      "text/html": [
       "<div>\n",
       "<style scoped>\n",
       "    .dataframe tbody tr th:only-of-type {\n",
       "        vertical-align: middle;\n",
       "    }\n",
       "\n",
       "    .dataframe tbody tr th {\n",
       "        vertical-align: top;\n",
       "    }\n",
       "\n",
       "    .dataframe thead th {\n",
       "        text-align: right;\n",
       "    }\n",
       "</style>\n",
       "<table border=\"1\" class=\"dataframe\">\n",
       "  <thead>\n",
       "    <tr style=\"text-align: right;\">\n",
       "      <th></th>\n",
       "      <th>CustomerID</th>\n",
       "      <th>Name</th>\n",
       "      <th>Age</th>\n",
       "      <th>Gender</th>\n",
       "      <th>Location</th>\n",
       "      <th>Subscription_Length_Months</th>\n",
       "      <th>Monthly_Bill</th>\n",
       "      <th>Total_Usage_GB</th>\n",
       "      <th>Churn</th>\n",
       "    </tr>\n",
       "  </thead>\n",
       "  <tbody>\n",
       "    <tr>\n",
       "      <th>90732</th>\n",
       "      <td>90733</td>\n",
       "      <td>Customer_90733</td>\n",
       "      <td>51</td>\n",
       "      <td>0</td>\n",
       "      <td>4.0</td>\n",
       "      <td>4</td>\n",
       "      <td>83.47</td>\n",
       "      <td>495</td>\n",
       "      <td>0</td>\n",
       "    </tr>\n",
       "    <tr>\n",
       "      <th>46166</th>\n",
       "      <td>46167</td>\n",
       "      <td>Customer_46167</td>\n",
       "      <td>23</td>\n",
       "      <td>1</td>\n",
       "      <td>4.0</td>\n",
       "      <td>11</td>\n",
       "      <td>49.10</td>\n",
       "      <td>435</td>\n",
       "      <td>1</td>\n",
       "    </tr>\n",
       "    <tr>\n",
       "      <th>80915</th>\n",
       "      <td>80916</td>\n",
       "      <td>Customer_80916</td>\n",
       "      <td>68</td>\n",
       "      <td>1</td>\n",
       "      <td>0.0</td>\n",
       "      <td>15</td>\n",
       "      <td>93.31</td>\n",
       "      <td>179</td>\n",
       "      <td>1</td>\n",
       "    </tr>\n",
       "    <tr>\n",
       "      <th>37105</th>\n",
       "      <td>37106</td>\n",
       "      <td>Customer_37106</td>\n",
       "      <td>26</td>\n",
       "      <td>1</td>\n",
       "      <td>4.0</td>\n",
       "      <td>8</td>\n",
       "      <td>44.22</td>\n",
       "      <td>436</td>\n",
       "      <td>0</td>\n",
       "    </tr>\n",
       "    <tr>\n",
       "      <th>76629</th>\n",
       "      <td>76630</td>\n",
       "      <td>Customer_76630</td>\n",
       "      <td>33</td>\n",
       "      <td>0</td>\n",
       "      <td>4.0</td>\n",
       "      <td>11</td>\n",
       "      <td>41.27</td>\n",
       "      <td>74</td>\n",
       "      <td>1</td>\n",
       "    </tr>\n",
       "  </tbody>\n",
       "</table>\n",
       "</div>"
      ],
      "text/plain": [
       "       CustomerID            Name  Age  Gender  Location   \n",
       "90732       90733  Customer_90733   51       0       4.0  \\\n",
       "46166       46167  Customer_46167   23       1       4.0   \n",
       "80915       80916  Customer_80916   68       1       0.0   \n",
       "37105       37106  Customer_37106   26       1       4.0   \n",
       "76629       76630  Customer_76630   33       0       4.0   \n",
       "\n",
       "       Subscription_Length_Months  Monthly_Bill  Total_Usage_GB  Churn  \n",
       "90732                           4         83.47             495      0  \n",
       "46166                          11         49.10             435      1  \n",
       "80915                          15         93.31             179      1  \n",
       "37105                           8         44.22             436      0  \n",
       "76629                          11         41.27              74      1  "
      ]
     },
     "execution_count": 6,
     "metadata": {},
     "output_type": "execute_result"
    }
   ],
   "source": [
    "df.sample(5)"
   ]
  },
  {
   "cell_type": "markdown",
   "id": "7a6ed476",
   "metadata": {},
   "source": [
    "# Data Segregation"
   ]
  },
  {
   "cell_type": "code",
   "execution_count": 9,
   "id": "ac1e53fe",
   "metadata": {},
   "outputs": [
    {
     "data": {
      "text/plain": [
       "0    0\n",
       "1    0\n",
       "2    0\n",
       "3    1\n",
       "4    0\n",
       "Name: Churn, dtype: int64"
      ]
     },
     "execution_count": 9,
     "metadata": {},
     "output_type": "execute_result"
    }
   ],
   "source": [
    "Y = df.iloc[:,-1]\n",
    "Y.head()"
   ]
  },
  {
   "cell_type": "code",
   "execution_count": 7,
   "id": "e74e458c",
   "metadata": {},
   "outputs": [
    {
     "data": {
      "text/html": [
       "<div>\n",
       "<style scoped>\n",
       "    .dataframe tbody tr th:only-of-type {\n",
       "        vertical-align: middle;\n",
       "    }\n",
       "\n",
       "    .dataframe tbody tr th {\n",
       "        vertical-align: top;\n",
       "    }\n",
       "\n",
       "    .dataframe thead th {\n",
       "        text-align: right;\n",
       "    }\n",
       "</style>\n",
       "<table border=\"1\" class=\"dataframe\">\n",
       "  <thead>\n",
       "    <tr style=\"text-align: right;\">\n",
       "      <th></th>\n",
       "      <th>Age</th>\n",
       "      <th>Gender</th>\n",
       "      <th>Location</th>\n",
       "      <th>Subscription_Length_Months</th>\n",
       "      <th>Monthly_Bill</th>\n",
       "      <th>Total_Usage_GB</th>\n",
       "    </tr>\n",
       "  </thead>\n",
       "  <tbody>\n",
       "    <tr>\n",
       "      <th>0</th>\n",
       "      <td>63</td>\n",
       "      <td>1</td>\n",
       "      <td>2.0</td>\n",
       "      <td>17</td>\n",
       "      <td>73.36</td>\n",
       "      <td>236</td>\n",
       "    </tr>\n",
       "    <tr>\n",
       "      <th>1</th>\n",
       "      <td>62</td>\n",
       "      <td>0</td>\n",
       "      <td>4.0</td>\n",
       "      <td>1</td>\n",
       "      <td>48.76</td>\n",
       "      <td>172</td>\n",
       "    </tr>\n",
       "    <tr>\n",
       "      <th>2</th>\n",
       "      <td>24</td>\n",
       "      <td>0</td>\n",
       "      <td>2.0</td>\n",
       "      <td>5</td>\n",
       "      <td>85.47</td>\n",
       "      <td>460</td>\n",
       "    </tr>\n",
       "    <tr>\n",
       "      <th>3</th>\n",
       "      <td>36</td>\n",
       "      <td>0</td>\n",
       "      <td>3.0</td>\n",
       "      <td>3</td>\n",
       "      <td>97.94</td>\n",
       "      <td>297</td>\n",
       "    </tr>\n",
       "    <tr>\n",
       "      <th>4</th>\n",
       "      <td>46</td>\n",
       "      <td>0</td>\n",
       "      <td>3.0</td>\n",
       "      <td>19</td>\n",
       "      <td>58.14</td>\n",
       "      <td>266</td>\n",
       "    </tr>\n",
       "  </tbody>\n",
       "</table>\n",
       "</div>"
      ],
      "text/plain": [
       "   Age  Gender  Location  Subscription_Length_Months  Monthly_Bill   \n",
       "0   63       1       2.0                          17         73.36  \\\n",
       "1   62       0       4.0                           1         48.76   \n",
       "2   24       0       2.0                           5         85.47   \n",
       "3   36       0       3.0                           3         97.94   \n",
       "4   46       0       3.0                          19         58.14   \n",
       "\n",
       "   Total_Usage_GB  \n",
       "0             236  \n",
       "1             172  \n",
       "2             460  \n",
       "3             297  \n",
       "4             266  "
      ]
     },
     "execution_count": 7,
     "metadata": {},
     "output_type": "execute_result"
    }
   ],
   "source": [
    "X = df.iloc[:,2:-1]\n",
    "X.head()"
   ]
  },
  {
   "cell_type": "markdown",
   "id": "b1e45847",
   "metadata": {},
   "source": [
    "# Data Scaling"
   ]
  },
  {
   "cell_type": "code",
   "execution_count": 8,
   "id": "d8cf4257",
   "metadata": {},
   "outputs": [
    {
     "data": {
      "text/plain": [
       "array([[ 1.24167039,  1.00432937,  0.00294695,  0.65111499,  0.41060598,\n",
       "        -0.29428898],\n",
       "       [ 1.17622625, -0.99568929,  1.41974758, -1.65887854, -0.80537409,\n",
       "        -0.78485174],\n",
       "       [-1.31065114, -0.99568929,  0.00294695, -1.08138015,  1.0092043 ,\n",
       "         1.42268068],\n",
       "       ...,\n",
       "       [ 1.30711454,  1.00432937, -1.41385369,  0.65111499,  1.5351404 ,\n",
       "        -0.17931334],\n",
       "       [ 0.45634069, -0.99568929,  1.41974758,  1.08423877, -0.78115335,\n",
       "         1.22338955],\n",
       "       [-1.11431871, -0.99568929,  0.00294695,  0.93986418,  0.56927655,\n",
       "        -0.7771867 ]])"
      ]
     },
     "execution_count": 8,
     "metadata": {},
     "output_type": "execute_result"
    }
   ],
   "source": [
    "# Scalling to make the inputs in a specific range and also for making computations faster\n",
    "from sklearn.preprocessing import StandardScaler\n",
    "SS = StandardScaler()\n",
    "X = SS.fit_transform(X)\n",
    "X"
   ]
  },
  {
   "cell_type": "markdown",
   "id": "a0cb0508",
   "metadata": {},
   "source": [
    "# Data Splitting"
   ]
  },
  {
   "cell_type": "code",
   "execution_count": 10,
   "id": "f91b30ed",
   "metadata": {},
   "outputs": [],
   "source": [
    "X_train,X_test,Y_train,Y_test = train_test_split(X,Y,test_size=0.3,random_state=1)"
   ]
  },
  {
   "cell_type": "markdown",
   "id": "704bb1eb",
   "metadata": {},
   "source": [
    "# Model Definition"
   ]
  },
  {
   "cell_type": "code",
   "execution_count": 11,
   "id": "44623bcb",
   "metadata": {},
   "outputs": [],
   "source": [
    "Master_Evaluations = []\n",
    "\n",
    "def Evaluations_store(Y_test, Y_pred):\n",
    "    f1 = f1_score(Y_test, Y_pred)\n",
    "    acc = accuracy_score(Y_test, Y_pred)\n",
    "    rec = recall_score(Y_test, Y_pred)\n",
    "    pre = precision_score(Y_test, Y_pred)\n",
    "    \n",
    "    return  f1, acc, rec, pre\n",
    "\n",
    "def CalModel(model, Model_Name = None):\n",
    "    model.fit(X_train,Y_train)\n",
    "    Y_pred = model.predict(X_test)\n",
    "    f1, acc, rec, pre = Evaluations_store(Y_test, Y_pred)\n",
    "    Master_Evaluations.append([Model_Name, f1, acc, rec, pre])\n",
    "    print(classification_report(Y_test,Y_pred))\n",
    "    \n",
    "    \n",
    "    "
   ]
  },
  {
   "cell_type": "markdown",
   "id": "cea8214a",
   "metadata": {},
   "source": [
    "# Logistic Regression"
   ]
  },
  {
   "cell_type": "code",
   "execution_count": 12,
   "id": "8794f909",
   "metadata": {},
   "outputs": [
    {
     "name": "stdout",
     "output_type": "stream",
     "text": [
      "              precision    recall  f1-score   support\n",
      "\n",
      "           0       0.50      0.61      0.55     15110\n",
      "           1       0.50      0.39      0.44     14890\n",
      "\n",
      "    accuracy                           0.50     30000\n",
      "   macro avg       0.50      0.50      0.49     30000\n",
      "weighted avg       0.50      0.50      0.49     30000\n",
      "\n"
     ]
    }
   ],
   "source": [
    "LOG_REG = LogisticRegression()\n",
    "CalModel(LOG_REG, \"Log_reg\")"
   ]
  },
  {
   "cell_type": "code",
   "execution_count": 13,
   "id": "9467eb40",
   "metadata": {},
   "outputs": [
    {
     "name": "stdout",
     "output_type": "stream",
     "text": [
      "['lbfgs', 'l2'] ---> 0.5005666666666667 \n",
      "['lbfgs', 'none'] ---> 0.5005666666666667 \n",
      "['liblinear', 'l1'] ---> 0.5003666666666666 \n",
      "['liblinear', 'l2'] ---> 0.5005666666666667 \n",
      "['newton-cg', 'l2'] ---> 0.5005666666666667 \n",
      "['newton-cg', 'none'] ---> 0.5005666666666667 \n",
      "['sag', 'l2'] ---> 0.5005666666666667 \n",
      "['sag', 'none'] ---> 0.5006333333333334 \n",
      "['saga', 'l1'] ---> 0.5001666666666666 \n",
      "['saga', 'l2'] ---> 0.5005666666666667 \n",
      "['saga', 'none'] ---> 0.5005666666666667 \n"
     ]
    }
   ],
   "source": [
    "# Hyper Tuning\n",
    "params = [ ['lbfgs','l2'],['lbfgs','none'],\n",
    "           ['liblinear','l1'],['liblinear','l2'],\n",
    "           ['newton-cg','l2'],['newton-cg','none'],\n",
    "           ['sag','l2'],['sag','none'],\n",
    "           ['saga','l1'],['saga','l2'],['saga','none']  ]\n",
    "\n",
    "#  ['saga','elasticnet']  --->  Need to perform Scalling on the Data \n",
    "\n",
    "all_combinations = []\n",
    "\n",
    "for i in params:\n",
    "\n",
    "    from sklearn.linear_model import LogisticRegression\n",
    "\n",
    "    model = LogisticRegression(solver=i[0] , penalty=i[1])\n",
    "\n",
    "    model.fit(X_train,Y_train)\n",
    "\n",
    "    Y_pred = model.predict(X_test)\n",
    "     \n",
    "    from sklearn.metrics import accuracy_score\n",
    "    acc = accuracy_score(Y_test,Y_pred)\n",
    "    \n",
    "    print(f\"{i} ---> {acc} \")\n",
    "    \n",
    "    all_combinations.append(acc)"
   ]
  },
  {
   "cell_type": "code",
   "execution_count": 14,
   "id": "9f3a049c",
   "metadata": {},
   "outputs": [
    {
     "name": "stdout",
     "output_type": "stream",
     "text": [
      "['sag', 'none'] ---> 0.5006333333333334\n"
     ]
    }
   ],
   "source": [
    "# Best Hyperparmeter for Logistic Regression\n",
    "print(f\"{params[all_combinations.index(max(all_combinations))]} ---> {max(all_combinations)}\")\n",
    "\n",
    "\n",
    "Master_Evaluations.append([f\"Log_reg_{params[all_combinations.index(max(all_combinations))]}\", None, max(all_combinations), None, None])\n"
   ]
  },
  {
   "cell_type": "markdown",
   "id": "400cb0ed",
   "metadata": {},
   "source": [
    "# SVM"
   ]
  },
  {
   "cell_type": "code",
   "execution_count": 57,
   "id": "7691d629",
   "metadata": {},
   "outputs": [
    {
     "name": "stdout",
     "output_type": "stream",
     "text": [
      "              precision    recall  f1-score   support\n",
      "\n",
      "           0       0.50      0.60      0.55     15110\n",
      "           1       0.50      0.40      0.44     14890\n",
      "\n",
      "    accuracy                           0.50     30000\n",
      "   macro avg       0.50      0.50      0.50     30000\n",
      "weighted avg       0.50      0.50      0.50     30000\n",
      "\n"
     ]
    }
   ],
   "source": [
    "SVC_linear = SVC()\n",
    "CalModel(SVC_linear,\"SVC_linear\")"
   ]
  },
  {
   "cell_type": "code",
   "execution_count": 58,
   "id": "6a315844",
   "metadata": {},
   "outputs": [
    {
     "name": "stdout",
     "output_type": "stream",
     "text": [
      "              precision    recall  f1-score   support\n",
      "\n",
      "           0       0.50      0.50      0.50     15110\n",
      "           1       0.49      0.49      0.49     14890\n",
      "\n",
      "    accuracy                           0.49     30000\n",
      "   macro avg       0.49      0.49      0.49     30000\n",
      "weighted avg       0.49      0.49      0.49     30000\n",
      "\n"
     ]
    }
   ],
   "source": [
    "SVC_sigmoid = SVC(kernel=\"sigmoid\")\n",
    "CalModel(SVC_sigmoid,\"SVC_sigmoid\")"
   ]
  },
  {
   "cell_type": "markdown",
   "id": "f1c9290f",
   "metadata": {},
   "source": [
    "# KNN"
   ]
  },
  {
   "cell_type": "code",
   "execution_count": 15,
   "id": "8e5c8b2c",
   "metadata": {},
   "outputs": [
    {
     "name": "stdout",
     "output_type": "stream",
     "text": [
      "              precision    recall  f1-score   support\n",
      "\n",
      "           0       0.51      0.52      0.51     15110\n",
      "           1       0.50      0.50      0.50     14890\n",
      "\n",
      "    accuracy                           0.51     30000\n",
      "   macro avg       0.51      0.51      0.51     30000\n",
      "weighted avg       0.51      0.51      0.51     30000\n",
      "\n"
     ]
    }
   ],
   "source": [
    "KNN = KNeighborsClassifier()\n",
    "CalModel(KNN,\"KNN\")"
   ]
  },
  {
   "cell_type": "code",
   "execution_count": 16,
   "id": "a65728f4",
   "metadata": {},
   "outputs": [
    {
     "name": "stdout",
     "output_type": "stream",
     "text": [
      "1 ----> 0.5005\n",
      "2 ----> 0.5003666666666666\n",
      "3 ----> 0.5042666666666666\n",
      "4 ----> 0.5048\n",
      "5 ----> 0.5057\n",
      "6 ----> 0.5053333333333333\n",
      "7 ----> 0.5010666666666667\n",
      "8 ----> 0.5022666666666666\n",
      "9 ----> 0.5003666666666666\n",
      "10 ----> 0.505\n",
      "11 ----> 0.5038\n",
      "12 ----> 0.5029333333333333\n",
      "13 ----> 0.5022333333333333\n",
      "14 ----> 0.5036333333333334\n",
      "15 ----> 0.5051666666666667\n",
      "16 ----> 0.5018333333333334\n",
      "17 ----> 0.5045666666666667\n",
      "18 ----> 0.5055666666666667\n",
      "19 ----> 0.5074666666666666\n",
      "20 ----> 0.5064666666666666\n",
      "21 ----> 0.5080333333333333\n",
      "22 ----> 0.5034666666666666\n",
      "23 ----> 0.5051666666666667\n",
      "24 ----> 0.5032666666666666\n",
      "25 ----> 0.5034333333333333\n",
      "26 ----> 0.5035666666666667\n",
      "27 ----> 0.5048666666666667\n",
      "28 ----> 0.5019\n",
      "29 ----> 0.5020333333333333\n",
      "30 ----> 0.5009666666666667\n",
      "31 ----> 0.5009666666666667\n",
      "32 ----> 0.5023666666666666\n",
      "33 ----> 0.501\n",
      "34 ----> 0.5024\n",
      "35 ----> 0.5023666666666666\n",
      "36 ----> 0.5019666666666667\n",
      "37 ----> 0.5020333333333333\n",
      "38 ----> 0.5029\n",
      "39 ----> 0.5019\n",
      "40 ----> 0.5013\n",
      "41 ----> 0.49943333333333334\n",
      "42 ----> 0.4997\n",
      "43 ----> 0.4998666666666667\n",
      "44 ----> 0.4983\n",
      "45 ----> 0.4991\n",
      "46 ----> 0.4987333333333333\n",
      "47 ----> 0.5015333333333334\n",
      "48 ----> 0.49783333333333335\n",
      "49 ----> 0.5015666666666667\n"
     ]
    }
   ],
   "source": [
    "# Hypertuning\n",
    "KNN_LIST = []\n",
    "for i in range(1,50):\n",
    "    KNN = KNeighborsClassifier(n_neighbors=i)\n",
    "    KNN.fit(X_train,Y_train)\n",
    "    Y_pred = KNN.predict(X_test)\n",
    "    print(f\"{i} ----> {accuracy_score(Y_test,Y_pred)}\")\n",
    "    KNN_LIST.append(accuracy_score(Y_test,Y_pred))"
   ]
  },
  {
   "cell_type": "code",
   "execution_count": 17,
   "id": "df4469e7",
   "metadata": {},
   "outputs": [
    {
     "name": "stdout",
     "output_type": "stream",
     "text": [
      "21 ---> 0.5080333333333333\n"
     ]
    }
   ],
   "source": [
    "# Best Hyperparmeter for KNN\n",
    "print(f\"{KNN_LIST.index(max(KNN_LIST))+1} ---> {max(KNN_LIST)}\")\n",
    "\n",
    "Master_Evaluations.append([f\"KNN_{KNN_LIST.index(max(KNN_LIST))+1}\", None, max(KNN_LIST), None, None])\n"
   ]
  },
  {
   "cell_type": "markdown",
   "id": "eaa0f54e",
   "metadata": {},
   "source": [
    "# Decision Tree"
   ]
  },
  {
   "cell_type": "code",
   "execution_count": 18,
   "id": "58eef5d8",
   "metadata": {
    "scrolled": true
   },
   "outputs": [
    {
     "name": "stdout",
     "output_type": "stream",
     "text": [
      "              precision    recall  f1-score   support\n",
      "\n",
      "           0       0.50      0.50      0.50     15110\n",
      "           1       0.50      0.50      0.50     14890\n",
      "\n",
      "    accuracy                           0.50     30000\n",
      "   macro avg       0.50      0.50      0.50     30000\n",
      "weighted avg       0.50      0.50      0.50     30000\n",
      "\n"
     ]
    }
   ],
   "source": [
    "DTC_GINI = DecisionTreeClassifier()\n",
    "CalModel(DTC_GINI, \"DTC_GINI\")"
   ]
  },
  {
   "cell_type": "code",
   "execution_count": 19,
   "id": "5255fd8f",
   "metadata": {},
   "outputs": [
    {
     "name": "stdout",
     "output_type": "stream",
     "text": [
      "              precision    recall  f1-score   support\n",
      "\n",
      "           0       0.50      0.50      0.50     15110\n",
      "           1       0.49      0.49      0.49     14890\n",
      "\n",
      "    accuracy                           0.50     30000\n",
      "   macro avg       0.50      0.50      0.50     30000\n",
      "weighted avg       0.50      0.50      0.50     30000\n",
      "\n"
     ]
    }
   ],
   "source": [
    "# HyperTuning\n",
    "DTC_ENTROPY = DecisionTreeClassifier(criterion=\"entropy\")\n",
    "CalModel(DTC_ENTROPY, \"DTC_ENTROPY\")"
   ]
  },
  {
   "cell_type": "markdown",
   "id": "497f7552",
   "metadata": {},
   "source": [
    "### MAX_DEPT"
   ]
  },
  {
   "cell_type": "code",
   "execution_count": 20,
   "id": "a5fbb0de",
   "metadata": {},
   "outputs": [
    {
     "name": "stdout",
     "output_type": "stream",
     "text": [
      "1 ---> 0.5040666666666667\n",
      "2 ---> 0.4959\n",
      "3 ---> 0.4959\n",
      "4 ---> 0.4961333333333333\n",
      "5 ---> 0.49643333333333334\n",
      "6 ---> 0.4978666666666667\n",
      "7 ---> 0.49893333333333334\n",
      "8 ---> 0.5018666666666667\n",
      "9 ---> 0.5002666666666666\n",
      "10 ---> 0.5009666666666667\n",
      "11 ---> 0.49793333333333334\n",
      "12 ---> 0.49943333333333334\n",
      "13 ---> 0.4973\n",
      "14 ---> 0.4985\n",
      "15 ---> 0.4991\n",
      "16 ---> 0.4997333333333333\n",
      "17 ---> 0.5027666666666667\n",
      "18 ---> 0.5013666666666666\n",
      "19 ---> 0.5038\n",
      "20 ---> 0.5031333333333333\n",
      "21 ---> 0.5014\n",
      "22 ---> 0.49773333333333336\n",
      "23 ---> 0.49793333333333334\n",
      "24 ---> 0.4982\n",
      "25 ---> 0.49646666666666667\n",
      "26 ---> 0.5002\n",
      "27 ---> 0.4997666666666667\n",
      "28 ---> 0.5017333333333334\n",
      "29 ---> 0.5023\n",
      "30 ---> 0.5028\n",
      "31 ---> 0.5009\n",
      "32 ---> 0.5014333333333333\n",
      "33 ---> 0.5016333333333334\n",
      "34 ---> 0.5044\n",
      "35 ---> 0.5018\n",
      "36 ---> 0.5007333333333334\n",
      "37 ---> 0.5012\n",
      "38 ---> 0.5012333333333333\n",
      "39 ---> 0.5047333333333334\n",
      "40 ---> 0.5027\n",
      "41 ---> 0.5018\n",
      "42 ---> 0.5001666666666666\n",
      "43 ---> 0.5022\n",
      "44 ---> 0.5033\n",
      "45 ---> 0.5022666666666666\n",
      "46 ---> 0.5041666666666667\n",
      "47 ---> 0.5045\n",
      "48 ---> 0.5022333333333333\n",
      "49 ---> 0.5025666666666667\n"
     ]
    }
   ],
   "source": [
    "MAX_DEPT_LIST = []\n",
    "for i in range(1,50):\n",
    "    DTC_1 = DecisionTreeClassifier(max_depth=i,)\n",
    "    DTC_1.fit(X_train,Y_train)\n",
    "    Y_pred = DTC_1.predict(X_test)\n",
    "    print(f\"{i} ---> {accuracy_score(Y_test,Y_pred)}\")\n",
    "    MAX_DEPT_LIST.append(accuracy_score(Y_test,Y_pred))"
   ]
  },
  {
   "cell_type": "code",
   "execution_count": 21,
   "id": "a89f5120",
   "metadata": {},
   "outputs": [
    {
     "name": "stdout",
     "output_type": "stream",
     "text": [
      "39 ---> 0.5047333333333334\n"
     ]
    }
   ],
   "source": [
    "print(f\"{MAX_DEPT_LIST.index(max(MAX_DEPT_LIST))+1} ---> {max(MAX_DEPT_LIST)}\")"
   ]
  },
  {
   "cell_type": "code",
   "execution_count": 22,
   "id": "ed8f3687",
   "metadata": {},
   "outputs": [
    {
     "name": "stdout",
     "output_type": "stream",
     "text": [
      "              precision    recall  f1-score   support\n",
      "\n",
      "           0       0.50      0.31      0.38     15110\n",
      "           1       0.49      0.69      0.57     14890\n",
      "\n",
      "    accuracy                           0.50     30000\n",
      "   macro avg       0.50      0.50      0.48     30000\n",
      "weighted avg       0.50      0.50      0.48     30000\n",
      "\n"
     ]
    }
   ],
   "source": [
    "DTC_MAX_DEPT_LIST = DecisionTreeClassifier(max_depth=5)\n",
    "CalModel(DTC_MAX_DEPT_LIST,'DTC_MAX_DEPT_LIST')"
   ]
  },
  {
   "cell_type": "markdown",
   "id": "78505e58",
   "metadata": {},
   "source": [
    "### MIN_SAMPLE_SPLIT"
   ]
  },
  {
   "cell_type": "code",
   "execution_count": 23,
   "id": "2fd175a4",
   "metadata": {},
   "outputs": [
    {
     "name": "stdout",
     "output_type": "stream",
     "text": [
      "2 ---> 0.5024\n",
      "3 ---> 0.5011333333333333\n",
      "4 ---> 0.5024666666666666\n",
      "5 ---> 0.5031\n",
      "6 ---> 0.5025333333333334\n",
      "7 ---> 0.5036666666666667\n",
      "8 ---> 0.5033333333333333\n",
      "9 ---> 0.5024\n",
      "10 ---> 0.5023333333333333\n",
      "11 ---> 0.5016666666666667\n",
      "12 ---> 0.5021666666666667\n",
      "13 ---> 0.5014666666666666\n",
      "14 ---> 0.5014\n",
      "15 ---> 0.5023\n",
      "16 ---> 0.5025\n",
      "17 ---> 0.5016333333333334\n",
      "18 ---> 0.5014666666666666\n",
      "19 ---> 0.5017666666666667\n",
      "20 ---> 0.5035\n",
      "21 ---> 0.5032666666666666\n",
      "22 ---> 0.5045\n",
      "23 ---> 0.5043666666666666\n",
      "24 ---> 0.5052333333333333\n",
      "25 ---> 0.5048\n",
      "26 ---> 0.5044333333333333\n",
      "27 ---> 0.5040333333333333\n",
      "28 ---> 0.5038333333333334\n",
      "29 ---> 0.5023333333333333\n",
      "30 ---> 0.5023666666666666\n",
      "31 ---> 0.5020666666666667\n",
      "32 ---> 0.5024\n",
      "33 ---> 0.5018\n",
      "34 ---> 0.5012666666666666\n",
      "35 ---> 0.5011666666666666\n",
      "36 ---> 0.5011\n",
      "37 ---> 0.5016333333333334\n",
      "38 ---> 0.5004666666666666\n",
      "39 ---> 0.5006\n",
      "40 ---> 0.5013333333333333\n",
      "41 ---> 0.5008\n",
      "42 ---> 0.5018\n",
      "43 ---> 0.5022\n",
      "44 ---> 0.5019333333333333\n",
      "45 ---> 0.5015\n",
      "46 ---> 0.501\n",
      "47 ---> 0.5009666666666667\n",
      "48 ---> 0.5000666666666667\n",
      "49 ---> 0.49953333333333333\n"
     ]
    }
   ],
   "source": [
    "MIN_SAMPLE_SPLIT = []\n",
    "for i in range(2,50):\n",
    "    DTC_2 = DecisionTreeClassifier(min_samples_split=i)\n",
    "    DTC_2.fit(X_train,Y_train)\n",
    "    Y_pred = DTC_2.predict(X_test)\n",
    "    \n",
    "    print(f\"{i} ---> {accuracy_score(Y_test,Y_pred)}\")\n",
    "    \n",
    "    MIN_SAMPLE_SPLIT.append(accuracy_score(Y_test,Y_pred))"
   ]
  },
  {
   "cell_type": "code",
   "execution_count": 24,
   "id": "31df7adf",
   "metadata": {},
   "outputs": [
    {
     "name": "stdout",
     "output_type": "stream",
     "text": [
      "24 ---> 0.5052333333333333\n"
     ]
    }
   ],
   "source": [
    "print(f\"{MIN_SAMPLE_SPLIT.index(max(MIN_SAMPLE_SPLIT))+2} ---> {max(MIN_SAMPLE_SPLIT)}\")"
   ]
  },
  {
   "cell_type": "code",
   "execution_count": 25,
   "id": "85d4e932",
   "metadata": {},
   "outputs": [
    {
     "name": "stdout",
     "output_type": "stream",
     "text": [
      "              precision    recall  f1-score   support\n",
      "\n",
      "           0       0.51      0.52      0.52     15110\n",
      "           1       0.50      0.49      0.49     14890\n",
      "\n",
      "    accuracy                           0.51     30000\n",
      "   macro avg       0.51      0.51      0.51     30000\n",
      "weighted avg       0.51      0.51      0.51     30000\n",
      "\n"
     ]
    }
   ],
   "source": [
    "DTC_MIN_SAMPLE_SPLIT = DecisionTreeClassifier(min_samples_split=25)\n",
    "CalModel(DTC_MIN_SAMPLE_SPLIT)"
   ]
  },
  {
   "cell_type": "markdown",
   "id": "ff5b1fe6",
   "metadata": {},
   "source": [
    "### MIN_SAMPLE_LEAF"
   ]
  },
  {
   "cell_type": "code",
   "execution_count": 26,
   "id": "5863133c",
   "metadata": {},
   "outputs": [
    {
     "name": "stdout",
     "output_type": "stream",
     "text": [
      "1 ---> 0.5007\n",
      "2 ---> 0.5029\n",
      "3 ---> 0.5036333333333334\n",
      "4 ---> 0.5077\n",
      "5 ---> 0.5050333333333333\n",
      "6 ---> 0.5072333333333333\n",
      "7 ---> 0.5053333333333333\n",
      "8 ---> 0.5048333333333334\n",
      "9 ---> 0.5066666666666667\n",
      "10 ---> 0.5074666666666666\n",
      "11 ---> 0.5072666666666666\n",
      "12 ---> 0.5046333333333334\n",
      "13 ---> 0.5054\n",
      "14 ---> 0.5042666666666666\n",
      "15 ---> 0.5024\n",
      "16 ---> 0.5020333333333333\n",
      "17 ---> 0.506\n",
      "18 ---> 0.5054333333333333\n",
      "19 ---> 0.5049333333333333\n",
      "20 ---> 0.5073333333333333\n",
      "21 ---> 0.5066333333333334\n",
      "22 ---> 0.5047333333333334\n",
      "23 ---> 0.5055333333333333\n",
      "24 ---> 0.5072\n",
      "25 ---> 0.5072\n",
      "26 ---> 0.5105333333333333\n",
      "27 ---> 0.5080666666666667\n",
      "28 ---> 0.5073\n",
      "29 ---> 0.5057666666666667\n",
      "30 ---> 0.504\n",
      "31 ---> 0.5026666666666667\n",
      "32 ---> 0.5034\n",
      "33 ---> 0.5037333333333334\n",
      "34 ---> 0.5037\n",
      "35 ---> 0.5056\n",
      "36 ---> 0.5063666666666666\n",
      "37 ---> 0.5048\n",
      "38 ---> 0.505\n",
      "39 ---> 0.5062333333333333\n",
      "40 ---> 0.5058\n",
      "41 ---> 0.5046666666666667\n",
      "42 ---> 0.5052\n",
      "43 ---> 0.5051666666666667\n",
      "44 ---> 0.5039666666666667\n",
      "45 ---> 0.5026\n",
      "46 ---> 0.5014\n",
      "47 ---> 0.5011666666666666\n",
      "48 ---> 0.5020333333333333\n",
      "49 ---> 0.5019666666666667\n"
     ]
    }
   ],
   "source": [
    "MIN_SAMPLE_LEAF = []\n",
    "for i in range(1,50):\n",
    "    DTC_3 = DecisionTreeClassifier(min_samples_leaf=i)\n",
    "    DTC_3.fit(X_train,Y_train)\n",
    "    Y_pred = DTC_3.predict(X_test)\n",
    "    \n",
    "    print(f\"{i} ---> {accuracy_score(Y_test,Y_pred)}\")\n",
    "    \n",
    "    MIN_SAMPLE_LEAF.append(accuracy_score(Y_test,Y_pred))"
   ]
  },
  {
   "cell_type": "code",
   "execution_count": 27,
   "id": "e045cd95",
   "metadata": {},
   "outputs": [
    {
     "name": "stdout",
     "output_type": "stream",
     "text": [
      "27 ---> 0.5105333333333333\n"
     ]
    }
   ],
   "source": [
    "print(f\"{MIN_SAMPLE_LEAF.index(max(MIN_SAMPLE_LEAF))+2} ---> {max(MIN_SAMPLE_LEAF)}\")"
   ]
  },
  {
   "cell_type": "code",
   "execution_count": 28,
   "id": "87b7fb52",
   "metadata": {
    "scrolled": false
   },
   "outputs": [
    {
     "name": "stdout",
     "output_type": "stream",
     "text": [
      "              precision    recall  f1-score   support\n",
      "\n",
      "           0       0.51      0.52      0.52     15110\n",
      "           1       0.50      0.48      0.49     14890\n",
      "\n",
      "    accuracy                           0.50     30000\n",
      "   macro avg       0.50      0.50      0.50     30000\n",
      "weighted avg       0.50      0.50      0.50     30000\n",
      "\n"
     ]
    }
   ],
   "source": [
    "DTC_MIN_SAMPLE_LEAF = DecisionTreeClassifier(min_samples_split=25)\n",
    "CalModel(DTC_MIN_SAMPLE_LEAF,'DTC_MIN_SAMPLE_LEAF')"
   ]
  },
  {
   "cell_type": "markdown",
   "id": "0318a0d4",
   "metadata": {},
   "source": [
    "# Stratified K-FOLD on Decision Tree"
   ]
  },
  {
   "cell_type": "code",
   "execution_count": 29,
   "id": "664730fd",
   "metadata": {},
   "outputs": [],
   "source": [
    "from sklearn.model_selection import StratifiedKFold\n",
    "from sklearn.model_selection import cross_val_score\n",
    "\n",
    "SKFOLD_LIST = []\n",
    "\n",
    "for i in range(2,20):\n",
    "    skfolds = StratifiedKFold(n_splits=i)\n",
    "\n",
    "    DTC_SKFOLD = DecisionTreeClassifier()\n",
    "\n",
    "    scores = cross_val_score(DTC_SKFOLD,X,Y,cv=skfolds)\n",
    "    \n",
    "    SKFOLD_LIST.append(np.mean(scores))\n",
    "\n"
   ]
  },
  {
   "cell_type": "code",
   "execution_count": 30,
   "id": "31c4e6a9",
   "metadata": {},
   "outputs": [
    {
     "name": "stdout",
     "output_type": "stream",
     "text": [
      "8 ---> 0.5035000000000001\n"
     ]
    }
   ],
   "source": [
    "print(f\"{SKFOLD_LIST.index(max(SKFOLD_LIST))+2} ---> {max(SKFOLD_LIST)}\")\n",
    "\n",
    "Master_Evaluations.append([f\"SKFOLD_DTC{SKFOLD_LIST.index(max(SKFOLD_LIST))+2}\", None, max(SKFOLD_LIST), None, None])"
   ]
  },
  {
   "cell_type": "markdown",
   "id": "0df1e9e3",
   "metadata": {},
   "source": [
    "# RandomForest"
   ]
  },
  {
   "cell_type": "code",
   "execution_count": 31,
   "id": "60719028",
   "metadata": {},
   "outputs": [
    {
     "name": "stdout",
     "output_type": "stream",
     "text": [
      "              precision    recall  f1-score   support\n",
      "\n",
      "           0       0.51      0.53      0.52     15110\n",
      "           1       0.50      0.48      0.49     14890\n",
      "\n",
      "    accuracy                           0.50     30000\n",
      "   macro avg       0.50      0.50      0.50     30000\n",
      "weighted avg       0.50      0.50      0.50     30000\n",
      "\n"
     ]
    }
   ],
   "source": [
    "RFC = RandomForestClassifier()\n",
    "CalModel(RFC,'RFC')"
   ]
  },
  {
   "cell_type": "markdown",
   "id": "f2e710d2",
   "metadata": {},
   "source": [
    "# Criterion → entropy"
   ]
  },
  {
   "cell_type": "code",
   "execution_count": 32,
   "id": "dd3d24f5",
   "metadata": {},
   "outputs": [
    {
     "name": "stdout",
     "output_type": "stream",
     "text": [
      "              precision    recall  f1-score   support\n",
      "\n",
      "           0       0.50      0.53      0.52     15110\n",
      "           1       0.50      0.47      0.48     14890\n",
      "\n",
      "    accuracy                           0.50     30000\n",
      "   macro avg       0.50      0.50      0.50     30000\n",
      "weighted avg       0.50      0.50      0.50     30000\n",
      "\n"
     ]
    }
   ],
   "source": [
    "RFC_Entropy = RandomForestClassifier(criterion=\"entropy\")\n",
    "CalModel(RFC_Entropy,'RFC_Entropy')"
   ]
  },
  {
   "cell_type": "markdown",
   "id": "c0b237bc",
   "metadata": {},
   "source": [
    "### E_Max_depth\n"
   ]
  },
  {
   "cell_type": "code",
   "execution_count": 33,
   "id": "f588c7dc",
   "metadata": {},
   "outputs": [],
   "source": [
    "E_MAX_DEPTH = []\n",
    "for i in range(1,15):\n",
    "    model = RandomForestClassifier(max_depth=i,criterion=\"entropy\")\n",
    "    model.fit(X_train,Y_train)\n",
    "    Y_pred = model.predict(X_test)\n",
    "    \n",
    "    E_MAX_DEPTH.append(accuracy_score(Y_test,Y_pred))\n",
    "    \n",
    "E_MAX_DEPTH_DF = pd.DataFrame(data=E_MAX_DEPTH,index=np.arange(1,15),columns=['Accuracy_score'])"
   ]
  },
  {
   "cell_type": "markdown",
   "id": "b3b89ada",
   "metadata": {},
   "source": [
    "### E_Max_depth\n"
   ]
  },
  {
   "cell_type": "code",
   "execution_count": 34,
   "id": "a71cecd1",
   "metadata": {},
   "outputs": [],
   "source": [
    "E_MIN_SAMPLE_SPLIT = [np.NAN,np.NAN]\n",
    "for i in range(2,15):\n",
    "    model = RandomForestClassifier(min_samples_split=i,criterion=\"entropy\")\n",
    "    model.fit(X_train,Y_train)\n",
    "    Y_pred = model.predict(X_test)\n",
    "    \n",
    "    E_MIN_SAMPLE_SPLIT.append(accuracy_score(Y_test,Y_pred))\n",
    "    \n",
    "E_MIN_SAMPLE_SPLIT_DF = pd.DataFrame(data=E_MIN_SAMPLE_SPLIT,index=np.arange(0,15),columns=['Accuracy_score'])"
   ]
  },
  {
   "cell_type": "markdown",
   "id": "3f9b669c",
   "metadata": {},
   "source": [
    "### E_Min_sample_leaf"
   ]
  },
  {
   "cell_type": "code",
   "execution_count": 35,
   "id": "abbf967e",
   "metadata": {},
   "outputs": [],
   "source": [
    "E_MIN_SAMPLE_LEAF = [np.NAN,np.NAN]\n",
    "for i in range(2,15):\n",
    "    model = RandomForestClassifier(min_samples_leaf=i,criterion=\"entropy\")\n",
    "    model.fit(X_train,Y_train)\n",
    "    Y_pred = model.predict(X_test)\n",
    "    \n",
    "    E_MIN_SAMPLE_LEAF.append(accuracy_score(Y_test,Y_pred))\n",
    "    \n",
    "E_MIN_SAMPLE_LEAF_DF = pd.DataFrame(data=E_MIN_SAMPLE_LEAF,index=np.arange(0,15),columns=['Accuracy_score'])"
   ]
  },
  {
   "cell_type": "markdown",
   "id": "13711672",
   "metadata": {},
   "source": [
    "# Plotting Graph for all using ENTROPY"
   ]
  },
  {
   "cell_type": "code",
   "execution_count": 36,
   "id": "c614336c",
   "metadata": {},
   "outputs": [
    {
     "name": "stdout",
     "output_type": "stream",
     "text": [
      "max_depth    Accuracy_score\n",
      "1          0.5058\n",
      "----------------------------\n",
      "min_sample_leaf     Accuracy_score\n",
      "11          0.5061\n",
      "----------------------------\n",
      "min_sample_split     Accuracy_score\n",
      "10        0.505233\n"
     ]
    },
    {
     "data": {
      "image/png": "[encoded data removed]",
      "text/plain": [
       "<Figure size 1080x576 with 3 Axes>"
      ]
     },
     "metadata": {
      "needs_background": "light"
     },
     "output_type": "display_data"
    }
   ],
   "source": [
    "plt.figure(figsize=(15,8))\n",
    "\n",
    "plt.subplot(1,3,1)\n",
    "plt.plot(E_MAX_DEPTH_DF)\n",
    "plt.xlabel(\"max_depth (Entropy)\")\n",
    "plt.grid()\n",
    "print(\"max_depth\",E_MAX_DEPTH_DF[E_MAX_DEPTH_DF.Accuracy_score == E_MAX_DEPTH_DF.Accuracy_score.max()])\n",
    "print(\"----------------------------\")\n",
    "\n",
    "plt.subplot(1,3,2)\n",
    "plt.plot(E_MIN_SAMPLE_LEAF_DF)\n",
    "plt.xlabel(\"min_sample_leaf (Entropy)\")\n",
    "plt.grid()\n",
    "print(\"min_sample_leaf\",E_MIN_SAMPLE_LEAF_DF[E_MIN_SAMPLE_LEAF_DF.Accuracy_score == E_MIN_SAMPLE_LEAF_DF.Accuracy_score.max()])\n",
    "print(\"----------------------------\")\n",
    "\n",
    "plt.subplot(1,3,3)\n",
    "plt.plot(E_MIN_SAMPLE_SPLIT)\n",
    "plt.xlabel(\"min_sample_split (Entropy)\")\n",
    "plt.grid()\n",
    "print(\"min_sample_split\",E_MIN_SAMPLE_SPLIT_DF[E_MIN_SAMPLE_SPLIT_DF.Accuracy_score == E_MIN_SAMPLE_SPLIT_DF.Accuracy_score.max()])"
   ]
  },
  {
   "cell_type": "markdown",
   "id": "6bf5825d",
   "metadata": {},
   "source": [
    "# Criterion → GINI"
   ]
  },
  {
   "cell_type": "markdown",
   "id": "d36091d2",
   "metadata": {},
   "source": [
    "### G_Max_depth\n"
   ]
  },
  {
   "cell_type": "code",
   "execution_count": 37,
   "id": "dcd8f0c1",
   "metadata": {},
   "outputs": [],
   "source": [
    "G_MAX_DEPTH = []\n",
    "for i in range(1,15):\n",
    "    model = RandomForestClassifier(max_depth=i)\n",
    "    model.fit(X_train,Y_train)\n",
    "    Y_pred = model.predict(X_test)\n",
    "    \n",
    "    G_MAX_DEPTH.append(accuracy_score(Y_test,Y_pred))\n",
    "    \n",
    "G_MAX_DEPTH_DF = pd.DataFrame(data=G_MAX_DEPTH,index=np.arange(1,15),columns=['Accuracy_score'])"
   ]
  },
  {
   "cell_type": "markdown",
   "id": "274d7048",
   "metadata": {},
   "source": [
    "### G_Min_sample_leaf"
   ]
  },
  {
   "cell_type": "code",
   "execution_count": 38,
   "id": "28826017",
   "metadata": {},
   "outputs": [],
   "source": [
    "G_MIN_SAMPLE_SPLIT = [np.NAN,np.NAN]\n",
    "for i in range(2,15):\n",
    "    model = RandomForestClassifier(min_samples_split=i)\n",
    "    model.fit(X_train,Y_train)\n",
    "    Y_pred = model.predict(X_test)\n",
    "    \n",
    "    G_MIN_SAMPLE_SPLIT.append(accuracy_score(Y_test,Y_pred))\n",
    "    \n",
    "G_MIN_SAMPLE_SPLIT_DF = pd.DataFrame(data=G_MIN_SAMPLE_SPLIT,index=np.arange(0,15),columns=['Accuracy_score'])"
   ]
  },
  {
   "cell_type": "markdown",
   "id": "b0c05281",
   "metadata": {},
   "source": [
    "### G_Min_sample_split"
   ]
  },
  {
   "cell_type": "code",
   "execution_count": 39,
   "id": "9df7fd88",
   "metadata": {},
   "outputs": [],
   "source": [
    "G_MIN_SAMPLE_LEAF = [np.NAN,np.NAN]\n",
    "for i in range(2,15):\n",
    "    model = RandomForestClassifier(min_samples_leaf=i)\n",
    "    model.fit(X_train,Y_train)\n",
    "    Y_pred = model.predict(X_test)\n",
    "    \n",
    "    G_MIN_SAMPLE_LEAF.append(accuracy_score(Y_test,Y_pred))\n",
    "    \n",
    "G_MIN_SAMPLE_LEAF_DF = pd.DataFrame(data=G_MIN_SAMPLE_LEAF,index=np.arange(0,15),columns=['Accuracy_score'])"
   ]
  },
  {
   "cell_type": "markdown",
   "id": "14c6df66",
   "metadata": {},
   "source": [
    "# Plotting Graph for all using GINI"
   ]
  },
  {
   "cell_type": "code",
   "execution_count": 40,
   "id": "e1ee1eef",
   "metadata": {},
   "outputs": [
    {
     "name": "stdout",
     "output_type": "stream",
     "text": [
      "max_depth    Accuracy_score\n",
      "2           0.507\n",
      "----------------------------\n",
      "min_sample_leaf    Accuracy_score\n",
      "4          0.5047\n",
      "----------------------------\n",
      "min_sample_split    Accuracy_score\n",
      "5        0.503267\n"
     ]
    },
    {
     "data": {
      "image/png": "[encoded data removed]",
      "text/plain": [
       "<Figure size 1080x576 with 3 Axes>"
      ]
     },
     "metadata": {
      "needs_background": "light"
     },
     "output_type": "display_data"
    }
   ],
   "source": [
    "plt.figure(figsize=(15,8))\n",
    "\n",
    "plt.subplot(1,3,1)\n",
    "plt.plot(G_MAX_DEPTH_DF)\n",
    "plt.xlabel(\"max_depth (Gini)\")\n",
    "plt.grid()\n",
    "print(\"max_depth\",G_MAX_DEPTH_DF[G_MAX_DEPTH_DF.Accuracy_score == G_MAX_DEPTH_DF.Accuracy_score.max()])\n",
    "print(\"----------------------------\")\n",
    "\n",
    "plt.subplot(1,3,2)\n",
    "plt.plot(G_MIN_SAMPLE_LEAF_DF)\n",
    "plt.xlabel(\"min_sample_leaf (Gini)\")\n",
    "plt.grid()\n",
    "print(\"min_sample_leaf\",G_MIN_SAMPLE_LEAF_DF[G_MIN_SAMPLE_LEAF_DF.Accuracy_score == G_MIN_SAMPLE_LEAF_DF.Accuracy_score.max()])\n",
    "print(\"----------------------------\")\n",
    "\n",
    "plt.subplot(1,3,3)\n",
    "plt.plot(G_MIN_SAMPLE_SPLIT)\n",
    "plt.xlabel(\"min_sample_split (Gini)\")\n",
    "plt.grid()\n",
    "print(\"min_sample_split\",G_MIN_SAMPLE_SPLIT_DF[G_MIN_SAMPLE_SPLIT_DF.Accuracy_score == G_MIN_SAMPLE_SPLIT_DF.Accuracy_score.max()])"
   ]
  },
  {
   "cell_type": "markdown",
   "id": "f4ebac77",
   "metadata": {},
   "source": [
    "# Evaluations"
   ]
  },
  {
   "cell_type": "code",
   "execution_count": 70,
   "id": "6b84c13b",
   "metadata": {},
   "outputs": [],
   "source": [
    "# Creating a dataframe of all evaluations\n",
    "Evalauations = pd.DataFrame(Master_Evaluations,columns= [\"Model\", \"f1\", 'acc', 'rec', 'pre'])"
   ]
  },
  {
   "cell_type": "code",
   "execution_count": 71,
   "id": "92e00e7a",
   "metadata": {},
   "outputs": [
    {
     "data": {
      "text/html": [
       "<div>\n",
       "<style scoped>\n",
       "    .dataframe tbody tr th:only-of-type {\n",
       "        vertical-align: middle;\n",
       "    }\n",
       "\n",
       "    .dataframe tbody tr th {\n",
       "        vertical-align: top;\n",
       "    }\n",
       "\n",
       "    .dataframe thead th {\n",
       "        text-align: right;\n",
       "    }\n",
       "</style>\n",
       "<table border=\"1\" class=\"dataframe\">\n",
       "  <thead>\n",
       "    <tr style=\"text-align: right;\">\n",
       "      <th></th>\n",
       "      <th>Model</th>\n",
       "      <th>f1</th>\n",
       "      <th>acc</th>\n",
       "      <th>rec</th>\n",
       "      <th>pre</th>\n",
       "    </tr>\n",
       "  </thead>\n",
       "  <tbody>\n",
       "    <tr>\n",
       "      <th>0</th>\n",
       "      <td>Log_reg</td>\n",
       "      <td>0.436242</td>\n",
       "      <td>0.500567</td>\n",
       "      <td>0.389322</td>\n",
       "      <td>0.496021</td>\n",
       "    </tr>\n",
       "    <tr>\n",
       "      <th>1</th>\n",
       "      <td>Log_reg_['sag', 'none']</td>\n",
       "      <td>NaN</td>\n",
       "      <td>0.500633</td>\n",
       "      <td>NaN</td>\n",
       "      <td>NaN</td>\n",
       "    </tr>\n",
       "    <tr>\n",
       "      <th>2</th>\n",
       "      <td>KNN</td>\n",
       "      <td>0.499105</td>\n",
       "      <td>0.505700</td>\n",
       "      <td>0.496172</td>\n",
       "      <td>0.502073</td>\n",
       "    </tr>\n",
       "    <tr>\n",
       "      <th>3</th>\n",
       "      <td>KNN_21</td>\n",
       "      <td>NaN</td>\n",
       "      <td>0.508033</td>\n",
       "      <td>NaN</td>\n",
       "      <td>NaN</td>\n",
       "    </tr>\n",
       "    <tr>\n",
       "      <th>4</th>\n",
       "      <td>DTC_GINI</td>\n",
       "      <td>0.497248</td>\n",
       "      <td>0.500667</td>\n",
       "      <td>0.497515</td>\n",
       "      <td>0.496981</td>\n",
       "    </tr>\n",
       "    <tr>\n",
       "      <th>5</th>\n",
       "      <td>DTC_ENTROPY</td>\n",
       "      <td>0.493779</td>\n",
       "      <td>0.498200</td>\n",
       "      <td>0.493083</td>\n",
       "      <td>0.494477</td>\n",
       "    </tr>\n",
       "    <tr>\n",
       "      <th>6</th>\n",
       "      <td>DTC_MAX_DEPT_LIST</td>\n",
       "      <td>0.574583</td>\n",
       "      <td>0.496433</td>\n",
       "      <td>0.685158</td>\n",
       "      <td>0.494738</td>\n",
       "    </tr>\n",
       "    <tr>\n",
       "      <th>7</th>\n",
       "      <td>None</td>\n",
       "      <td>0.494172</td>\n",
       "      <td>0.505267</td>\n",
       "      <td>0.486904</td>\n",
       "      <td>0.501661</td>\n",
       "    </tr>\n",
       "    <tr>\n",
       "      <th>8</th>\n",
       "      <td>DTC_MIN_SAMPLE_LEAF</td>\n",
       "      <td>0.492282</td>\n",
       "      <td>0.504400</td>\n",
       "      <td>0.484083</td>\n",
       "      <td>0.500764</td>\n",
       "    </tr>\n",
       "    <tr>\n",
       "      <th>9</th>\n",
       "      <td>SKFOLD_8</td>\n",
       "      <td>NaN</td>\n",
       "      <td>0.503500</td>\n",
       "      <td>NaN</td>\n",
       "      <td>NaN</td>\n",
       "    </tr>\n",
       "    <tr>\n",
       "      <th>10</th>\n",
       "      <td>RFC</td>\n",
       "      <td>0.488819</td>\n",
       "      <td>0.502433</td>\n",
       "      <td>0.479315</td>\n",
       "      <td>0.498707</td>\n",
       "    </tr>\n",
       "    <tr>\n",
       "      <th>11</th>\n",
       "      <td>RFC_Entropy</td>\n",
       "      <td>0.482564</td>\n",
       "      <td>0.499467</td>\n",
       "      <td>0.470248</td>\n",
       "      <td>0.495541</td>\n",
       "    </tr>\n",
       "    <tr>\n",
       "      <th>12</th>\n",
       "      <td>SVC_sigmoid</td>\n",
       "      <td>0.487690</td>\n",
       "      <td>0.492967</td>\n",
       "      <td>0.486232</td>\n",
       "      <td>0.489156</td>\n",
       "    </tr>\n",
       "    <tr>\n",
       "      <th>13</th>\n",
       "      <td>SVC_linear</td>\n",
       "      <td>0.444469</td>\n",
       "      <td>0.500300</td>\n",
       "      <td>0.402754</td>\n",
       "      <td>0.495825</td>\n",
       "    </tr>\n",
       "  </tbody>\n",
       "</table>\n",
       "</div>"
      ],
      "text/plain": [
       "                      Model        f1       acc       rec       pre\n",
       "0                   Log_reg  0.436242  0.500567  0.389322  0.496021\n",
       "1   Log_reg_['sag', 'none']       NaN  0.500633       NaN       NaN\n",
       "2                       KNN  0.499105  0.505700  0.496172  0.502073\n",
       "3                    KNN_21       NaN  0.508033       NaN       NaN\n",
       "4                  DTC_GINI  0.497248  0.500667  0.497515  0.496981\n",
       "5               DTC_ENTROPY  0.493779  0.498200  0.493083  0.494477\n",
       "6         DTC_MAX_DEPT_LIST  0.574583  0.496433  0.685158  0.494738\n",
       "7                      None  0.494172  0.505267  0.486904  0.501661\n",
       "8       DTC_MIN_SAMPLE_LEAF  0.492282  0.504400  0.484083  0.500764\n",
       "9                  SKFOLD_8       NaN  0.503500       NaN       NaN\n",
       "10                      RFC  0.488819  0.502433  0.479315  0.498707\n",
       "11              RFC_Entropy  0.482564  0.499467  0.470248  0.495541\n",
       "12              SVC_sigmoid  0.487690  0.492967  0.486232  0.489156\n",
       "13               SVC_linear  0.444469  0.500300  0.402754  0.495825"
      ]
     },
     "execution_count": 71,
     "metadata": {},
     "output_type": "execute_result"
    }
   ],
   "source": [
    "Evalauations"
   ]
  },
  {
   "cell_type": "code",
   "execution_count": 105,
   "id": "6af9e613",
   "metadata": {
    "scrolled": false
   },
   "outputs": [
    {
     "data": {
      "text/html": [
       "<div>\n",
       "<style scoped>\n",
       "    .dataframe tbody tr th:only-of-type {\n",
       "        vertical-align: middle;\n",
       "    }\n",
       "\n",
       "    .dataframe tbody tr th {\n",
       "        vertical-align: top;\n",
       "    }\n",
       "\n",
       "    .dataframe thead th {\n",
       "        text-align: right;\n",
       "    }\n",
       "</style>\n",
       "<table border=\"1\" class=\"dataframe\">\n",
       "  <thead>\n",
       "    <tr style=\"text-align: right;\">\n",
       "      <th></th>\n",
       "      <th>Model</th>\n",
       "      <th>variable</th>\n",
       "      <th>value</th>\n",
       "    </tr>\n",
       "  </thead>\n",
       "  <tbody>\n",
       "    <tr>\n",
       "      <th>0</th>\n",
       "      <td>Log_reg</td>\n",
       "      <td>f1</td>\n",
       "      <td>0.436242</td>\n",
       "    </tr>\n",
       "    <tr>\n",
       "      <th>1</th>\n",
       "      <td>Log_reg_['sag', 'none']</td>\n",
       "      <td>f1</td>\n",
       "      <td>NaN</td>\n",
       "    </tr>\n",
       "    <tr>\n",
       "      <th>2</th>\n",
       "      <td>KNN</td>\n",
       "      <td>f1</td>\n",
       "      <td>0.499105</td>\n",
       "    </tr>\n",
       "    <tr>\n",
       "      <th>3</th>\n",
       "      <td>KNN_21</td>\n",
       "      <td>f1</td>\n",
       "      <td>NaN</td>\n",
       "    </tr>\n",
       "    <tr>\n",
       "      <th>4</th>\n",
       "      <td>DTC_GINI</td>\n",
       "      <td>f1</td>\n",
       "      <td>0.497248</td>\n",
       "    </tr>\n",
       "    <tr>\n",
       "      <th>5</th>\n",
       "      <td>DTC_ENTROPY</td>\n",
       "      <td>f1</td>\n",
       "      <td>0.493779</td>\n",
       "    </tr>\n",
       "    <tr>\n",
       "      <th>6</th>\n",
       "      <td>DTC_MAX_DEPT_LIST</td>\n",
       "      <td>f1</td>\n",
       "      <td>0.574583</td>\n",
       "    </tr>\n",
       "    <tr>\n",
       "      <th>7</th>\n",
       "      <td>None</td>\n",
       "      <td>f1</td>\n",
       "      <td>0.494172</td>\n",
       "    </tr>\n",
       "    <tr>\n",
       "      <th>8</th>\n",
       "      <td>DTC_MIN_SAMPLE_LEAF</td>\n",
       "      <td>f1</td>\n",
       "      <td>0.492282</td>\n",
       "    </tr>\n",
       "    <tr>\n",
       "      <th>9</th>\n",
       "      <td>SKFOLD_8</td>\n",
       "      <td>f1</td>\n",
       "      <td>NaN</td>\n",
       "    </tr>\n",
       "    <tr>\n",
       "      <th>10</th>\n",
       "      <td>RFC</td>\n",
       "      <td>f1</td>\n",
       "      <td>0.488819</td>\n",
       "    </tr>\n",
       "    <tr>\n",
       "      <th>11</th>\n",
       "      <td>RFC_Entropy</td>\n",
       "      <td>f1</td>\n",
       "      <td>0.482564</td>\n",
       "    </tr>\n",
       "    <tr>\n",
       "      <th>12</th>\n",
       "      <td>SVC_sigmoid</td>\n",
       "      <td>f1</td>\n",
       "      <td>0.487690</td>\n",
       "    </tr>\n",
       "    <tr>\n",
       "      <th>13</th>\n",
       "      <td>SVC_linear</td>\n",
       "      <td>f1</td>\n",
       "      <td>0.444469</td>\n",
       "    </tr>\n",
       "    <tr>\n",
       "      <th>14</th>\n",
       "      <td>Log_reg</td>\n",
       "      <td>acc</td>\n",
       "      <td>0.500567</td>\n",
       "    </tr>\n",
       "    <tr>\n",
       "      <th>15</th>\n",
       "      <td>Log_reg_['sag', 'none']</td>\n",
       "      <td>acc</td>\n",
       "      <td>0.500633</td>\n",
       "    </tr>\n",
       "    <tr>\n",
       "      <th>16</th>\n",
       "      <td>KNN</td>\n",
       "      <td>acc</td>\n",
       "      <td>0.505700</td>\n",
       "    </tr>\n",
       "    <tr>\n",
       "      <th>17</th>\n",
       "      <td>KNN_21</td>\n",
       "      <td>acc</td>\n",
       "      <td>0.508033</td>\n",
       "    </tr>\n",
       "    <tr>\n",
       "      <th>18</th>\n",
       "      <td>DTC_GINI</td>\n",
       "      <td>acc</td>\n",
       "      <td>0.500667</td>\n",
       "    </tr>\n",
       "    <tr>\n",
       "      <th>19</th>\n",
       "      <td>DTC_ENTROPY</td>\n",
       "      <td>acc</td>\n",
       "      <td>0.498200</td>\n",
       "    </tr>\n",
       "    <tr>\n",
       "      <th>20</th>\n",
       "      <td>DTC_MAX_DEPT_LIST</td>\n",
       "      <td>acc</td>\n",
       "      <td>0.496433</td>\n",
       "    </tr>\n",
       "    <tr>\n",
       "      <th>21</th>\n",
       "      <td>None</td>\n",
       "      <td>acc</td>\n",
       "      <td>0.505267</td>\n",
       "    </tr>\n",
       "    <tr>\n",
       "      <th>22</th>\n",
       "      <td>DTC_MIN_SAMPLE_LEAF</td>\n",
       "      <td>acc</td>\n",
       "      <td>0.504400</td>\n",
       "    </tr>\n",
       "    <tr>\n",
       "      <th>23</th>\n",
       "      <td>SKFOLD_8</td>\n",
       "      <td>acc</td>\n",
       "      <td>0.503500</td>\n",
       "    </tr>\n",
       "    <tr>\n",
       "      <th>24</th>\n",
       "      <td>RFC</td>\n",
       "      <td>acc</td>\n",
       "      <td>0.502433</td>\n",
       "    </tr>\n",
       "    <tr>\n",
       "      <th>25</th>\n",
       "      <td>RFC_Entropy</td>\n",
       "      <td>acc</td>\n",
       "      <td>0.499467</td>\n",
       "    </tr>\n",
       "    <tr>\n",
       "      <th>26</th>\n",
       "      <td>SVC_sigmoid</td>\n",
       "      <td>acc</td>\n",
       "      <td>0.492967</td>\n",
       "    </tr>\n",
       "    <tr>\n",
       "      <th>27</th>\n",
       "      <td>SVC_linear</td>\n",
       "      <td>acc</td>\n",
       "      <td>0.500300</td>\n",
       "    </tr>\n",
       "    <tr>\n",
       "      <th>28</th>\n",
       "      <td>Log_reg</td>\n",
       "      <td>rec</td>\n",
       "      <td>0.389322</td>\n",
       "    </tr>\n",
       "    <tr>\n",
       "      <th>29</th>\n",
       "      <td>Log_reg_['sag', 'none']</td>\n",
       "      <td>rec</td>\n",
       "      <td>NaN</td>\n",
       "    </tr>\n",
       "    <tr>\n",
       "      <th>30</th>\n",
       "      <td>KNN</td>\n",
       "      <td>rec</td>\n",
       "      <td>0.496172</td>\n",
       "    </tr>\n",
       "    <tr>\n",
       "      <th>31</th>\n",
       "      <td>KNN_21</td>\n",
       "      <td>rec</td>\n",
       "      <td>NaN</td>\n",
       "    </tr>\n",
       "    <tr>\n",
       "      <th>32</th>\n",
       "      <td>DTC_GINI</td>\n",
       "      <td>rec</td>\n",
       "      <td>0.497515</td>\n",
       "    </tr>\n",
       "    <tr>\n",
       "      <th>33</th>\n",
       "      <td>DTC_ENTROPY</td>\n",
       "      <td>rec</td>\n",
       "      <td>0.493083</td>\n",
       "    </tr>\n",
       "    <tr>\n",
       "      <th>34</th>\n",
       "      <td>DTC_MAX_DEPT_LIST</td>\n",
       "      <td>rec</td>\n",
       "      <td>0.685158</td>\n",
       "    </tr>\n",
       "    <tr>\n",
       "      <th>35</th>\n",
       "      <td>None</td>\n",
       "      <td>rec</td>\n",
       "      <td>0.486904</td>\n",
       "    </tr>\n",
       "    <tr>\n",
       "      <th>36</th>\n",
       "      <td>DTC_MIN_SAMPLE_LEAF</td>\n",
       "      <td>rec</td>\n",
       "      <td>0.484083</td>\n",
       "    </tr>\n",
       "    <tr>\n",
       "      <th>37</th>\n",
       "      <td>SKFOLD_8</td>\n",
       "      <td>rec</td>\n",
       "      <td>NaN</td>\n",
       "    </tr>\n",
       "    <tr>\n",
       "      <th>38</th>\n",
       "      <td>RFC</td>\n",
       "      <td>rec</td>\n",
       "      <td>0.479315</td>\n",
       "    </tr>\n",
       "    <tr>\n",
       "      <th>39</th>\n",
       "      <td>RFC_Entropy</td>\n",
       "      <td>rec</td>\n",
       "      <td>0.470248</td>\n",
       "    </tr>\n",
       "    <tr>\n",
       "      <th>40</th>\n",
       "      <td>SVC_sigmoid</td>\n",
       "      <td>rec</td>\n",
       "      <td>0.486232</td>\n",
       "    </tr>\n",
       "    <tr>\n",
       "      <th>41</th>\n",
       "      <td>SVC_linear</td>\n",
       "      <td>rec</td>\n",
       "      <td>0.402754</td>\n",
       "    </tr>\n",
       "    <tr>\n",
       "      <th>42</th>\n",
       "      <td>Log_reg</td>\n",
       "      <td>pre</td>\n",
       "      <td>0.496021</td>\n",
       "    </tr>\n",
       "    <tr>\n",
       "      <th>43</th>\n",
       "      <td>Log_reg_['sag', 'none']</td>\n",
       "      <td>pre</td>\n",
       "      <td>NaN</td>\n",
       "    </tr>\n",
       "    <tr>\n",
       "      <th>44</th>\n",
       "      <td>KNN</td>\n",
       "      <td>pre</td>\n",
       "      <td>0.502073</td>\n",
       "    </tr>\n",
       "    <tr>\n",
       "      <th>45</th>\n",
       "      <td>KNN_21</td>\n",
       "      <td>pre</td>\n",
       "      <td>NaN</td>\n",
       "    </tr>\n",
       "    <tr>\n",
       "      <th>46</th>\n",
       "      <td>DTC_GINI</td>\n",
       "      <td>pre</td>\n",
       "      <td>0.496981</td>\n",
       "    </tr>\n",
       "    <tr>\n",
       "      <th>47</th>\n",
       "      <td>DTC_ENTROPY</td>\n",
       "      <td>pre</td>\n",
       "      <td>0.494477</td>\n",
       "    </tr>\n",
       "    <tr>\n",
       "      <th>48</th>\n",
       "      <td>DTC_MAX_DEPT_LIST</td>\n",
       "      <td>pre</td>\n",
       "      <td>0.494738</td>\n",
       "    </tr>\n",
       "    <tr>\n",
       "      <th>49</th>\n",
       "      <td>None</td>\n",
       "      <td>pre</td>\n",
       "      <td>0.501661</td>\n",
       "    </tr>\n",
       "    <tr>\n",
       "      <th>50</th>\n",
       "      <td>DTC_MIN_SAMPLE_LEAF</td>\n",
       "      <td>pre</td>\n",
       "      <td>0.500764</td>\n",
       "    </tr>\n",
       "    <tr>\n",
       "      <th>51</th>\n",
       "      <td>SKFOLD_8</td>\n",
       "      <td>pre</td>\n",
       "      <td>NaN</td>\n",
       "    </tr>\n",
       "    <tr>\n",
       "      <th>52</th>\n",
       "      <td>RFC</td>\n",
       "      <td>pre</td>\n",
       "      <td>0.498707</td>\n",
       "    </tr>\n",
       "    <tr>\n",
       "      <th>53</th>\n",
       "      <td>RFC_Entropy</td>\n",
       "      <td>pre</td>\n",
       "      <td>0.495541</td>\n",
       "    </tr>\n",
       "    <tr>\n",
       "      <th>54</th>\n",
       "      <td>SVC_sigmoid</td>\n",
       "      <td>pre</td>\n",
       "      <td>0.489156</td>\n",
       "    </tr>\n",
       "    <tr>\n",
       "      <th>55</th>\n",
       "      <td>SVC_linear</td>\n",
       "      <td>pre</td>\n",
       "      <td>0.495825</td>\n",
       "    </tr>\n",
       "  </tbody>\n",
       "</table>\n",
       "</div>"
      ],
      "text/plain": [
       "                      Model variable     value\n",
       "0                   Log_reg       f1  0.436242\n",
       "1   Log_reg_['sag', 'none']       f1       NaN\n",
       "2                       KNN       f1  0.499105\n",
       "3                    KNN_21       f1       NaN\n",
       "4                  DTC_GINI       f1  0.497248\n",
       "5               DTC_ENTROPY       f1  0.493779\n",
       "6         DTC_MAX_DEPT_LIST       f1  0.574583\n",
       "7                      None       f1  0.494172\n",
       "8       DTC_MIN_SAMPLE_LEAF       f1  0.492282\n",
       "9                  SKFOLD_8       f1       NaN\n",
       "10                      RFC       f1  0.488819\n",
       "11              RFC_Entropy       f1  0.482564\n",
       "12              SVC_sigmoid       f1  0.487690\n",
       "13               SVC_linear       f1  0.444469\n",
       "14                  Log_reg      acc  0.500567\n",
       "15  Log_reg_['sag', 'none']      acc  0.500633\n",
       "16                      KNN      acc  0.505700\n",
       "17                   KNN_21      acc  0.508033\n",
       "18                 DTC_GINI      acc  0.500667\n",
       "19              DTC_ENTROPY      acc  0.498200\n",
       "20        DTC_MAX_DEPT_LIST      acc  0.496433\n",
       "21                     None      acc  0.505267\n",
       "22      DTC_MIN_SAMPLE_LEAF      acc  0.504400\n",
       "23                 SKFOLD_8      acc  0.503500\n",
       "24                      RFC      acc  0.502433\n",
       "25              RFC_Entropy      acc  0.499467\n",
       "26              SVC_sigmoid      acc  0.492967\n",
       "27               SVC_linear      acc  0.500300\n",
       "28                  Log_reg      rec  0.389322\n",
       "29  Log_reg_['sag', 'none']      rec       NaN\n",
       "30                      KNN      rec  0.496172\n",
       "31                   KNN_21      rec       NaN\n",
       "32                 DTC_GINI      rec  0.497515\n",
       "33              DTC_ENTROPY      rec  0.493083\n",
       "34        DTC_MAX_DEPT_LIST      rec  0.685158\n",
       "35                     None      rec  0.486904\n",
       "36      DTC_MIN_SAMPLE_LEAF      rec  0.484083\n",
       "37                 SKFOLD_8      rec       NaN\n",
       "38                      RFC      rec  0.479315\n",
       "39              RFC_Entropy      rec  0.470248\n",
       "40              SVC_sigmoid      rec  0.486232\n",
       "41               SVC_linear      rec  0.402754\n",
       "42                  Log_reg      pre  0.496021\n",
       "43  Log_reg_['sag', 'none']      pre       NaN\n",
       "44                      KNN      pre  0.502073\n",
       "45                   KNN_21      pre       NaN\n",
       "46                 DTC_GINI      pre  0.496981\n",
       "47              DTC_ENTROPY      pre  0.494477\n",
       "48        DTC_MAX_DEPT_LIST      pre  0.494738\n",
       "49                     None      pre  0.501661\n",
       "50      DTC_MIN_SAMPLE_LEAF      pre  0.500764\n",
       "51                 SKFOLD_8      pre       NaN\n",
       "52                      RFC      pre  0.498707\n",
       "53              RFC_Entropy      pre  0.495541\n",
       "54              SVC_sigmoid      pre  0.489156\n",
       "55               SVC_linear      pre  0.495825"
      ]
     },
     "execution_count": 105,
     "metadata": {},
     "output_type": "execute_result"
    }
   ],
   "source": [
    "# Melting it to make it flexible to plot\n",
    "Melted_Evalauations = pd.melt(Evalauations, id_vars = \"Model\")\n",
    "Melted_Evalauations"
   ]
  },
  {
   "cell_type": "code",
   "execution_count": 106,
   "id": "3beeccc7",
   "metadata": {},
   "outputs": [
    {
     "data": {
      "image/png": "[encoded data removed]",
      "text/plain": [
       "<Figure size 411.625x360 with 1 Axes>"
      ]
     },
     "metadata": {},
     "output_type": "display_data"
    }
   ],
   "source": [
    "sns.set_style(\"whitegrid\")\n",
    "sns.set_palette(\"Set1\") \n",
    "\n",
    "sns.catplot(x='Model', y='value', hue='variable', data=Melted_Evalauations, kind='bar', height=5)\n",
    "\n",
    "plt.ylim(0.3,0.8)\n",
    "plt.xticks(rotation='vertical')\n",
    "plt.show()"
   ]
  }
 ],
 "metadata": {
  "kernelspec": {
   "display_name": "Python 3 (ipykernel)",
   "language": "python",
   "name": "python3"
  },
  "language_info": {
   "codemirror_mode": {
    "name": "ipython",
    "version": 3
   },
   "file_extension": ".py",
   "mimetype": "text/x-python",
   "name": "python",
   "nbconvert_exporter": "python",
   "pygments_lexer": "ipython3",
   "version": "3.10.0"
  }
 },
 "nbformat": 4,
 "nbformat_minor": 5
}
